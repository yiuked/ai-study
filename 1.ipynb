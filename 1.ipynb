{
 "cells": [
  {
   "cell_type": "code",
   "execution_count": 7,
   "id": "cceead28-0d37-488a-af94-bb33c09a5bc2",
   "metadata": {},
   "outputs": [],
   "source": [
    "import torch\n",
    "import torch.nn as nn\n",
    "\n",
    "import pandas\n",
    "import matplotlib.pyplot as plt\n",
    "\n",
    "import random"
   ]
  },
  {
   "cell_type": "code",
   "execution_count": 9,
   "id": "0b14219b-4321-46f7-b2f8-26c125a2bb7c",
   "metadata": {},
   "outputs": [
    {
     "data": {
      "text/plain": [
       "tensor([0.9879, 0.0188, 0.8814, 0.1642])"
      ]
     },
     "execution_count": 9,
     "metadata": {},
     "output_type": "execute_result"
    }
   ],
   "source": [
    "def generate_real():\n",
    "    real_data = torch.FloatTensor([\n",
    "        random.uniform(0.8,1.0),\n",
    "        random.uniform(0.0,0.2),\n",
    "        random.uniform(0.8,1.0),\n",
    "        random.uniform(0.0,0.2)\n",
    "    ])\n",
    "    return real_data\n",
    "generate_real()    "
   ]
  },
  {
   "cell_type": "code",
   "execution_count": null,
   "id": "5c0d5a84-ba57-4b8f-89c3-62b663fd972c",
   "metadata": {},
   "outputs": [],
   "source": []
  }
 ],
 "metadata": {
  "kernelspec": {
   "display_name": "Python 3 (ipykernel)",
   "language": "python",
   "name": "python3"
  },
  "language_info": {
   "codemirror_mode": {
    "name": "ipython",
    "version": 3
   },
   "file_extension": ".py",
   "mimetype": "text/x-python",
   "name": "python",
   "nbconvert_exporter": "python",
   "pygments_lexer": "ipython3",
   "version": "3.8.20"
  }
 },
 "nbformat": 4,
 "nbformat_minor": 5
}
