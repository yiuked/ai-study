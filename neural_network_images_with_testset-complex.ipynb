{
 "cells": [
  {
   "cell_type": "code",
   "execution_count": 34,
   "metadata": {
    "collapsed": false
   },
   "outputs": [],
   "source": [
    "# neural network with variable input, hidden and output nodes\n",
    "# implemets the sigmoid activation function\n",
    "# uses the backpropagation algorithm"
   ]
  },
  {
   "cell_type": "code",
   "execution_count": 35,
   "metadata": {
    "collapsed": false
   },
   "outputs": [],
   "source": [
    "import numpy"
   ]
  },
  {
   "cell_type": "code",
   "execution_count": 36,
   "metadata": {
    "collapsed": false
   },
   "outputs": [],
   "source": [
    "class neuralNetwork:\n",
    "    \n",
    "    def __init__(self, inputnodes, hiddennodes, outputnodes, categories):\n",
    "        # number of nodes in each input, hidden, output layer\n",
    "        self.inodes = inputnodes\n",
    "        self.hnodes = hiddennodes\n",
    "        self.onodes = outputnodes\n",
    "        \n",
    "        # random initial weights arrays wif and who\n",
    "        # structure is w_i_j where i is current layer, j is next layer\n",
    "        # w11 w21\n",
    "        # w12 w22 etc \n",
    "        self.wih = numpy.asarray((numpy.random.rand(self.hnodes, self.inodes) - 0.5), dtype='complex128')\n",
    "        self.wih += ( 1j * (numpy.random.rand(self.hnodes, self.inodes) - 0.5))\n",
    "        self.wih /= self.inodes\n",
    "        self.who = numpy.asarray((numpy.random.rand(self.onodes, self.hnodes) - 0.5), dtype='complex128')\n",
    "        self.who += ( 1j * (numpy.random.rand(self.onodes, self.hnodes) - 0.5))\n",
    "        self.who /= self.hnodes\n",
    "        \n",
    "        # cast to higher range dtype\n",
    "        self.wih = numpy.asarray(self.wih, dtype='complex128')\n",
    "        self.who = numpy.asarray(self.who, dtype='complex128')\n",
    "        \n",
    "        # number of categories\n",
    "        self.cats = categories\n",
    "        pass\n",
    "    \n",
    "    def z_to_class(self, z):\n",
    "        # first work out the angle, but shift angle from [-pi, +pi] to [0,2pi]\n",
    "        angle = numpy.mod(numpy.angle(z) + 2*numpy.pi, 2*numpy.pi)\n",
    "        # from angle to category\n",
    "        p = numpy.floor (self.cats * angle / (2*numpy.pi))\n",
    "        return p\n",
    "\n",
    "    def class_to_angle(self, p):\n",
    "        # class to angle, using bisector\n",
    "        angle = ((p + 0.5) / self.cats) * 2 * numpy.pi\n",
    "        return angle\n",
    "    \n",
    "    def status(self):\n",
    "        print (\"wih = \\n\", self.wih)\n",
    "        print (\"who = \\n\", self.who)\n",
    "        print (\"cats = \", self.cats)\n",
    "        pass\n",
    "\n",
    "    def query(self, inputs_list):\n",
    "        # convert inputs list to 2d array\n",
    "        inputs = numpy.array(inputs_list, ndmin=2, dtype='complex128').T\n",
    "        \n",
    "        # calculate hidden layer outputs\n",
    "        hiddeninputs = numpy.dot(self.wih, inputs)\n",
    "        hiddenoutputs = numpy.exp(1j * numpy.angle(hiddeninputs))\n",
    "        \n",
    "        # calculate output layer outputs\n",
    "        finalinputs = numpy.dot(self.who, hiddenoutputs)\n",
    "        finaloutputs = numpy.exp(1j * numpy.angle(finalinputs))\n",
    "        \n",
    "        return self.z_to_class(finaloutputs)\n",
    "    \n",
    "    def train(self, inputs_list, targets_list):\n",
    "        # convert inputs list to 2d array\n",
    "        inputs = numpy.array(inputs_list, ndmin=2, dtype='complex128').T\n",
    "        targets = numpy.array(targets_list, ndmin=2, dtype='complex128').T\n",
    "        \n",
    "        # calculate hidden layer outputs\n",
    "        hiddeninputs = numpy.dot(self.wih, inputs)\n",
    "        hiddenoutputs = numpy.exp(1j * numpy.angle(hiddeninputs))\n",
    "        \n",
    "        # calculate output layer outputs\n",
    "        finalinputs = numpy.dot(self.who, hiddenoutputs)\n",
    "        finaloutputs = numpy.exp(1j * numpy.angle(finalinputs))\n",
    "        \n",
    "        # error at output layer\n",
    "        desired_angles = self.class_to_angle(targets)\n",
    "        output_errors =  numpy.exp(1j*desired_angles) - finaloutputs\n",
    "        output_errors /= self.hnodes\n",
    "        \n",
    "        self.who += numpy.dot(output_errors, numpy.conj(hiddenoutputs.T))\n",
    "        \n",
    "        # hidden layer error is the output_errors, split by weights, recombined at hidden nodes\n",
    "        hidden_errors = numpy.dot(self.who.T, output_errors)\n",
    "        hidden_errors /= (self.inodes * numpy.abs(hiddeninputs))\n",
    "        \n",
    "        self.wih += numpy.dot(hidden_errors, numpy.conj(inputs.T))\n",
    "        \n",
    "        #print(\"wih after = \\n\", self.wih)\n",
    "        #print(\"who after = \\n\", self.who)\n",
    "    pass"
   ]
  },
  {
   "cell_type": "code",
   "execution_count": 37,
   "metadata": {
    "collapsed": false
   },
   "outputs": [],
   "source": [
    "# number of input, hidden and output nodes\n",
    "# chosen for mnist character data\n",
    "inodes = 784\n",
    "hnodes = 200\n",
    "onodes = 1\n",
    "\n",
    "# categories = 10\n",
    "categories = 10\n",
    "\n",
    "# create instance of neural network\n",
    "n = neuralNetwork(inodes, hnodes, onodes, categories)"
   ]
  },
  {
   "cell_type": "code",
   "execution_count": 38,
   "metadata": {
    "collapsed": false
   },
   "outputs": [],
   "source": [
    "# read mnist training data\n",
    "f = open(\"mnist_train.csv\", 'r')\n",
    "mnist_train_csv = f.readlines()\n",
    "f.close()"
   ]
  },
  {
   "cell_type": "code",
   "execution_count": 39,
   "metadata": {
    "collapsed": false,
    "scrolled": true
   },
   "outputs": [],
   "source": [
    "#train neuralnetwork\n",
    "\n",
    "# epochs is number of times entire training set is used for learning\n",
    "epochs = 5\n",
    "\n",
    "for e in range(epochs):\n",
    "    for line in mnist_train_csv:\n",
    "        linebits = line.split(',')\n",
    "        targets = numpy.asarray(int(linebits[0]))\n",
    "        # put 0-255 range to -1.0 to +1.0\n",
    "        inputs = (numpy.asfarray(linebits[1:]) / 255.0 * 0.99) + 0.01\n",
    "        inputs = numpy.exp(1j * 1 * numpy.pi * inputs)\n",
    "        n.train(inputs, targets)\n",
    "        pass\n",
    "    pass"
   ]
  },
  {
   "cell_type": "code",
   "execution_count": 40,
   "metadata": {
    "collapsed": false
   },
   "outputs": [
    {
     "name": "stdout",
     "output_type": "stream",
     "text": [
      "4\n"
     ]
    },
    {
     "data": {
      "text/plain": [
       "array([[ 5.]])"
      ]
     },
     "execution_count": 40,
     "metadata": {},
     "output_type": "execute_result"
    }
   ],
   "source": [
    "testindex = 20\n",
    "line = mnist_train_csv[testindex]\n",
    "linebits = line.split(',')\n",
    "target = linebits[0]\n",
    "print(target)\n",
    "inputs = (numpy.asfarray(linebits[1:]) / 255.0 * 0.99) + 0.01\n",
    "inputs = numpy.exp(1j * 1 * numpy.pi * inputs)\n",
    "n.query(inputs)"
   ]
  },
  {
   "cell_type": "code",
   "execution_count": 41,
   "metadata": {
    "collapsed": false
   },
   "outputs": [],
   "source": [
    "# read mnist test data\n",
    "f = open(\"mnist_test.csv\", 'r')\n",
    "mnist_test_csv = f.readlines()\n",
    "f.close()"
   ]
  },
  {
   "cell_type": "code",
   "execution_count": 42,
   "metadata": {
    "collapsed": false
   },
   "outputs": [],
   "source": [
    "# list to keep record of correct or incorrect predictions\n",
    "record = []\n",
    "\n",
    "# work through each test example\n",
    "for line in mnist_test_csv:\n",
    "    linebits = line.split(',')\n",
    "    #print(linebits[0])\n",
    "    answer = int(linebits[0])\n",
    "    # put 0-256 range to -1.0 to +1.0\n",
    "    inputs = (numpy.asfarray(linebits[1:]) / 255.0 * 0.99) + 0.01\n",
    "    inputs = numpy.exp(1j * 1 * numpy.pi * inputs)\n",
    "    # finaloutputs is the answer from the already trained neuralnetwork\n",
    "    out_class = n.query(inputs)\n",
    "    # append correct or incorrect to list\n",
    "    if (answer == int(out_class)):\n",
    "        record.append(1)\n",
    "    else:\n",
    "        record.append(0)\n",
    "        pass\n",
    "    pass"
   ]
  },
  {
   "cell_type": "code",
   "execution_count": 43,
   "metadata": {
    "collapsed": false
   },
   "outputs": [
    {
     "name": "stdout",
     "output_type": "stream",
     "text": [
      "[1, 0, 0, 0, 0, 0, 0, 0, 0, 0, 1, 0, 0, 1, 1, 0, 0, 1, 0, 0, 0, 1, 0, 1, 0, 0, 1, 0, 1, 0, 0, 0, 0, 1, 1, 0, 1, 0, 1, 0, 0, 1, 0, 0, 0, 0, 0, 0, 0, 0, 1, 1, 1, 1, 1, 0, 0, 0, 0, 0, 1, 0, 0, 0, 1, 0, 0, 0, 0, 1, 1, 1, 0, 0, 0, 1, 0, 0, 0, 1, 0, 0, 1, 1, 0, 0, 1, 0, 1, 0, 0, 1, 0, 0, 0, 0, 1, 0, 0, 0]\n",
      "10000\n"
     ]
    }
   ],
   "source": [
    "print(record[:100])\n",
    "print(len(record))"
   ]
  },
  {
   "cell_type": "code",
   "execution_count": 44,
   "metadata": {
    "collapsed": false
   },
   "outputs": [
    {
     "name": "stdout",
     "output_type": "stream",
     "text": [
      "0.3292\n"
     ]
    }
   ],
   "source": [
    "r = numpy.asarray(record)\n",
    "print (r.sum() / r.size)"
   ]
  },
  {
   "cell_type": "code",
   "execution_count": null,
   "metadata": {
    "collapsed": true
   },
   "outputs": [],
   "source": []
  }
 ],
 "metadata": {
  "kernelspec": {
   "display_name": "Python 3",
   "language": "python",
   "name": "python3"
  },
  "language_info": {
   "codemirror_mode": {
    "name": "ipython",
    "version": 3
   },
   "file_extension": ".py",
   "mimetype": "text/x-python",
   "name": "python",
   "nbconvert_exporter": "python",
   "pygments_lexer": "ipython3",
   "version": "3.5.1"
  }
 },
 "nbformat": 4,
 "nbformat_minor": 0
}
